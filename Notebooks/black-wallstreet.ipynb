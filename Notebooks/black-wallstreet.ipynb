{
 "cells": [
  {
   "cell_type": "code",
   "execution_count": 1,
   "metadata": {},
   "outputs": [
    {
     "name": "stdout",
     "output_type": "stream",
     "text": [
      "Collecting langchain\n",
      "\u001b[?25l  Downloading https://files.pythonhosted.org/packages/d0/bc/1f7c5d68628100b44ee1493d4393af542407124370706882dd531b5dfde1/langchain-0.0.235-py3-none-any.whl (1.3MB)\n",
      "\u001b[K     |████████████████████████████████| 1.3MB 1.4MB/s eta 0:00:01\n",
      "\u001b[?25hCollecting pydantic<2,>=1 (from langchain)\n",
      "\u001b[?25l  Downloading https://files.pythonhosted.org/packages/3c/c0/57fb46d928d8f76736d99d1d2a3c00483e0f4029cfac6cd57584a3f7379b/pydantic-1.10.11-cp38-cp38-macosx_10_9_x86_64.whl (2.9MB)\n",
      "\u001b[K     |████████████████████████████████| 2.9MB 24.9MB/s eta 0:00:01\n",
      "\u001b[?25hCollecting langsmith<0.0.8,>=0.0.7 (from langchain)\n",
      "  Downloading https://files.pythonhosted.org/packages/2d/77/d2fbb2155b2683ec3a35ab96e2c32a355615748e31cf9a256341b445900b/langsmith-0.0.7-py3-none-any.whl\n",
      "Collecting dataclasses-json<0.6.0,>=0.5.7 (from langchain)\n",
      "  Downloading https://files.pythonhosted.org/packages/26/3a/502d66312c1e707a4d5f73d2fc2165a4217d8c77df3a1eb4c09db26dd3b0/dataclasses_json-0.5.12-py3-none-any.whl\n",
      "Collecting aiohttp<4.0.0,>=3.8.3 (from langchain)\n",
      "\u001b[?25l  Downloading https://files.pythonhosted.org/packages/0f/30/f00e6c3dd65087ad402e1d5e94ddd54758803b88fc3902a8ad14ac970efa/aiohttp-3.8.4-cp38-cp38-macosx_10_9_x86_64.whl (359kB)\n",
      "\u001b[K     |████████████████████████████████| 368kB 39.5MB/s eta 0:00:01\n",
      "\u001b[?25hCollecting SQLAlchemy<3,>=1.4 (from langchain)\n",
      "\u001b[?25l  Downloading https://files.pythonhosted.org/packages/89/a5/d297d52198d1ab7eaf8fc8e4a6f40db3e8ff48dc6a8b3ef08887aee19448/SQLAlchemy-2.0.19-cp38-cp38-macosx_10_9_x86_64.whl (2.0MB)\n",
      "\u001b[K     |████████████████████████████████| 2.0MB 21.4MB/s eta 0:00:01\n",
      "\u001b[?25hCollecting PyYAML>=5.4.1 (from langchain)\n",
      "\u001b[?25l  Downloading https://files.pythonhosted.org/packages/7f/5d/2779ea035ba1e533c32ed4a249b4e0448f583ba10830b21a3cddafe11a4e/PyYAML-6.0.1-cp38-cp38-macosx_10_9_x86_64.whl (191kB)\n",
      "\u001b[K     |████████████████████████████████| 194kB 29.3MB/s eta 0:00:01\n",
      "\u001b[?25hCollecting openapi-schema-pydantic<2.0,>=1.2 (from langchain)\n",
      "\u001b[?25l  Downloading https://files.pythonhosted.org/packages/a8/e7/22abb5a10733bf8142984201aedf27d4a58f5810ebdfe9679f9876c7bf4d/openapi_schema_pydantic-1.2.4-py3-none-any.whl (90kB)\n",
      "\u001b[K     |████████████████████████████████| 92kB 23.1MB/s eta 0:00:01\n",
      "\u001b[?25hCollecting tenacity<9.0.0,>=8.1.0 (from langchain)\n",
      "  Downloading https://files.pythonhosted.org/packages/e7/b0/c23bd61e1b32c9b96fbca996c87784e196a812da8d621d8d04851f6c8181/tenacity-8.2.2-py3-none-any.whl\n",
      "Collecting requests<3,>=2 (from langchain)\n",
      "  Using cached https://files.pythonhosted.org/packages/70/8e/0e2d847013cb52cd35b38c009bb167a1a26b2ce6cd6965bf26b47bc0bf44/requests-2.31.0-py3-none-any.whl\n",
      "Collecting async-timeout<5.0.0,>=4.0.0; python_version < \"3.11\" (from langchain)\n",
      "  Downloading https://files.pythonhosted.org/packages/d6/c1/8991e7c5385b897b8c020cdaad718c5b087a6626d1d11a23e1ea87e325a7/async_timeout-4.0.2-py3-none-any.whl\n",
      "Collecting numpy<2,>=1 (from langchain)\n",
      "\u001b[?25l  Downloading https://files.pythonhosted.org/packages/11/10/943cfb579f1a02909ff96464c69893b1d25be3731b5d3652c2e0cf1281ea/numpy-1.24.4-cp38-cp38-macosx_10_9_x86_64.whl (19.8MB)\n",
      "\u001b[K     |████████████████████████████████| 19.8MB 34.6MB/s eta 0:00:01    |█████▍                          | 3.4MB 34.6MB/s eta 0:00:01\n",
      "\u001b[?25hCollecting numexpr<3.0.0,>=2.8.4 (from langchain)\n",
      "\u001b[?25l  Downloading https://files.pythonhosted.org/packages/e6/54/f685075eaff648d1935bd770c9ff9b564fdc49a198af69b38057e0f6a32c/numexpr-2.8.4-cp38-cp38-macosx_10_9_x86_64.whl (99kB)\n",
      "\u001b[K     |████████████████████████████████| 102kB 18.0MB/s ta 0:00:01\n",
      "\u001b[?25hRequirement already satisfied: typing-extensions>=4.2.0 in /Users/jusbuckingham/Library/Python/3.8/lib/python/site-packages (from pydantic<2,>=1->langchain) (4.7.1)\n",
      "Collecting typing-inspect<1,>=0.4.0 (from dataclasses-json<0.6.0,>=0.5.7->langchain)\n",
      "  Downloading https://files.pythonhosted.org/packages/65/f3/107a22063bf27bdccf2024833d3445f4eea42b2e598abfbd46f6a63b6cb0/typing_inspect-0.9.0-py3-none-any.whl\n",
      "Collecting marshmallow<4.0.0,>=3.18.0 (from dataclasses-json<0.6.0,>=0.5.7->langchain)\n",
      "\u001b[?25l  Downloading https://files.pythonhosted.org/packages/ae/53/980a20d789029329fdf1546c315f9c92bf862c7f3e7294e3667afcc464f5/marshmallow-3.19.0-py3-none-any.whl (49kB)\n",
      "\u001b[K     |████████████████████████████████| 51kB 16.5MB/s eta 0:00:01\n",
      "\u001b[?25hCollecting charset-normalizer<4.0,>=2.0 (from aiohttp<4.0.0,>=3.8.3->langchain)\n",
      "\u001b[?25l  Downloading https://files.pythonhosted.org/packages/79/55/9aef5046a1765acacf28f80994f5a964ab4f43ab75208b1265191a11004b/charset_normalizer-3.2.0-cp38-cp38-macosx_10_9_x86_64.whl (124kB)\n",
      "\u001b[K     |████████████████████████████████| 133kB 28.0MB/s eta 0:00:01\n",
      "\u001b[?25hCollecting yarl<2.0,>=1.0 (from aiohttp<4.0.0,>=3.8.3->langchain)\n",
      "\u001b[?25l  Downloading https://files.pythonhosted.org/packages/54/90/8e7f57b0c83805652bd1c26663f9979d12fed8d22516c14c7f3021f97a19/yarl-1.9.2-cp38-cp38-macosx_10_9_x86_64.whl (65kB)\n",
      "\u001b[K     |████████████████████████████████| 71kB 16.4MB/s eta 0:00:01\n",
      "\u001b[?25hCollecting attrs>=17.3.0 (from aiohttp<4.0.0,>=3.8.3->langchain)\n",
      "  Using cached https://files.pythonhosted.org/packages/f0/eb/fcb708c7bf5056045e9e98f62b93bd7467eb718b0202e7698eb11d66416c/attrs-23.1.0-py3-none-any.whl\n",
      "Collecting aiosignal>=1.1.2 (from aiohttp<4.0.0,>=3.8.3->langchain)\n",
      "  Downloading https://files.pythonhosted.org/packages/76/ac/a7305707cb852b7e16ff80eaf5692309bde30e2b1100a1fcacdc8f731d97/aiosignal-1.3.1-py3-none-any.whl\n",
      "Collecting multidict<7.0,>=4.5 (from aiohttp<4.0.0,>=3.8.3->langchain)\n",
      "  Downloading https://files.pythonhosted.org/packages/57/23/3955d3bba16dc6d75b1993d52a1b32dc93c795920e213862fab220c7d030/multidict-6.0.4-cp38-cp38-macosx_10_9_x86_64.whl\n",
      "Collecting frozenlist>=1.1.1 (from aiohttp<4.0.0,>=3.8.3->langchain)\n",
      "\u001b[?25l  Downloading https://files.pythonhosted.org/packages/d2/bd/918992ca90e75e501110061bbacba13f33262f0d72252205bbd9a7eed316/frozenlist-1.4.0-cp38-cp38-macosx_10_9_x86_64.whl (47kB)\n",
      "\u001b[K     |████████████████████████████████| 51kB 11.8MB/s eta 0:00:01\n",
      "\u001b[?25hCollecting greenlet!=0.4.17; platform_machine == \"aarch64\" or (platform_machine == \"ppc64le\" or (platform_machine == \"x86_64\" or (platform_machine == \"amd64\" or (platform_machine == \"AMD64\" or (platform_machine == \"win32\" or platform_machine == \"WIN32\"))))) (from SQLAlchemy<3,>=1.4->langchain)\n",
      "\u001b[?25l  Downloading https://files.pythonhosted.org/packages/50/3d/7e3d95b955722c514f982bdf6bbe92bb76218b0036dd9b093ae0c168d63a/greenlet-2.0.2-cp38-cp38-macosx_10_15_x86_64.whl (241kB)\n",
      "\u001b[K     |████████████████████████████████| 245kB 21.6MB/s eta 0:00:01\n",
      "\u001b[?25hCollecting idna<4,>=2.5 (from requests<3,>=2->langchain)\n",
      "  Using cached https://files.pythonhosted.org/packages/fc/34/3030de6f1370931b9dbb4dad48f6ab1015ab1d32447850b9fc94e60097be/idna-3.4-py3-none-any.whl\n",
      "Requirement already satisfied: certifi>=2017.4.17 in /Library/Frameworks/Python.framework/Versions/3.8/lib/python3.8/site-packages (from requests<3,>=2->langchain) (2020.4.5.1)\n",
      "Collecting urllib3<3,>=1.21.1 (from requests<3,>=2->langchain)\n",
      "  Using cached https://files.pythonhosted.org/packages/8a/03/ad9306a50d05c166e3456fe810f33cee2b8b2a7a6818ec5d4908c4ec6b36/urllib3-2.0.3-py3-none-any.whl\n",
      "Collecting mypy-extensions>=0.3.0 (from typing-inspect<1,>=0.4.0->dataclasses-json<0.6.0,>=0.5.7->langchain)\n",
      "  Downloading https://files.pythonhosted.org/packages/2a/e2/5d3f6ada4297caebe1a2add3b126fe800c96f56dbe5d1988a2cbe0b267aa/mypy_extensions-1.0.0-py3-none-any.whl\n",
      "Requirement already satisfied: packaging>=17.0 in /Users/jusbuckingham/Library/Python/3.8/lib/python/site-packages (from marshmallow<4.0.0,>=3.18.0->dataclasses-json<0.6.0,>=0.5.7->langchain) (23.1)\n",
      "Installing collected packages: pydantic, idna, urllib3, charset-normalizer, requests, langsmith, mypy-extensions, typing-inspect, marshmallow, dataclasses-json, multidict, yarl, attrs, frozenlist, aiosignal, async-timeout, aiohttp, greenlet, SQLAlchemy, PyYAML, openapi-schema-pydantic, tenacity, numpy, numexpr, langchain\n",
      "\u001b[33m  WARNING: The script normalizer is installed in '/Library/Frameworks/Python.framework/Versions/3.8/bin' which is not on PATH.\n",
      "  Consider adding this directory to PATH or, if you prefer to suppress this warning, use --no-warn-script-location.\u001b[0m\n",
      "\u001b[33m  WARNING: The script langsmith is installed in '/Library/Frameworks/Python.framework/Versions/3.8/bin' which is not on PATH.\n",
      "  Consider adding this directory to PATH or, if you prefer to suppress this warning, use --no-warn-script-location.\u001b[0m\n",
      "\u001b[33m  WARNING: The scripts f2py, f2py3 and f2py3.8 are installed in '/Library/Frameworks/Python.framework/Versions/3.8/bin' which is not on PATH.\n",
      "  Consider adding this directory to PATH or, if you prefer to suppress this warning, use --no-warn-script-location.\u001b[0m\n",
      "\u001b[33m  WARNING: The script langchain-server is installed in '/Library/Frameworks/Python.framework/Versions/3.8/bin' which is not on PATH.\n",
      "  Consider adding this directory to PATH or, if you prefer to suppress this warning, use --no-warn-script-location.\u001b[0m\n",
      "Successfully installed PyYAML-6.0.1 SQLAlchemy-2.0.19 aiohttp-3.8.4 aiosignal-1.3.1 async-timeout-4.0.2 attrs-23.1.0 charset-normalizer-3.2.0 dataclasses-json-0.5.12 frozenlist-1.4.0 greenlet-2.0.2 idna-3.4 langchain-0.0.235 langsmith-0.0.7 marshmallow-3.19.0 multidict-6.0.4 mypy-extensions-1.0.0 numexpr-2.8.4 numpy-1.24.4 openapi-schema-pydantic-1.2.4 pydantic-1.10.11 requests-2.31.0 tenacity-8.2.2 typing-inspect-0.9.0 urllib3-2.0.3 yarl-1.9.2\n",
      "\u001b[33mWARNING: You are using pip version 19.2.3, however version 23.2 is available.\n",
      "You should consider upgrading via the 'pip install --upgrade pip' command.\u001b[0m\n",
      "Note: you may need to restart the kernel to use updated packages.\n"
     ]
    }
   ],
   "source": [
    "pip install langchain"
   ]
  },
  {
   "cell_type": "code",
   "execution_count": 1,
   "metadata": {},
   "outputs": [
    {
     "name": "stdout",
     "output_type": "stream",
     "text": [
      "Collecting openai\n",
      "\u001b[?25l  Downloading https://files.pythonhosted.org/packages/67/78/7588a047e458cb8075a4089d721d7af5e143ff85a2388d4a28c530be0494/openai-0.27.8-py3-none-any.whl (73kB)\n",
      "\u001b[K     |████████████████████████████████| 81kB 1.2MB/s eta 0:00:01\n",
      "\u001b[?25hCollecting tqdm (from openai)\n",
      "\u001b[?25l  Downloading https://files.pythonhosted.org/packages/e6/02/a2cff6306177ae6bc73bc0665065de51dfb3b9db7373e122e2735faf0d97/tqdm-4.65.0-py3-none-any.whl (77kB)\n",
      "\u001b[K     |████████████████████████████████| 81kB 5.0MB/s eta 0:00:01\n",
      "\u001b[?25hRequirement already satisfied: aiohttp in /Library/Frameworks/Python.framework/Versions/3.8/lib/python3.8/site-packages (from openai) (3.8.4)\n",
      "Requirement already satisfied: requests>=2.20 in /Library/Frameworks/Python.framework/Versions/3.8/lib/python3.8/site-packages (from openai) (2.31.0)\n",
      "Requirement already satisfied: aiosignal>=1.1.2 in /Library/Frameworks/Python.framework/Versions/3.8/lib/python3.8/site-packages (from aiohttp->openai) (1.3.1)\n",
      "Requirement already satisfied: attrs>=17.3.0 in /Library/Frameworks/Python.framework/Versions/3.8/lib/python3.8/site-packages (from aiohttp->openai) (23.1.0)\n",
      "Requirement already satisfied: yarl<2.0,>=1.0 in /Library/Frameworks/Python.framework/Versions/3.8/lib/python3.8/site-packages (from aiohttp->openai) (1.9.2)\n",
      "Requirement already satisfied: frozenlist>=1.1.1 in /Library/Frameworks/Python.framework/Versions/3.8/lib/python3.8/site-packages (from aiohttp->openai) (1.4.0)\n",
      "Requirement already satisfied: charset-normalizer<4.0,>=2.0 in /Library/Frameworks/Python.framework/Versions/3.8/lib/python3.8/site-packages (from aiohttp->openai) (3.2.0)\n",
      "Requirement already satisfied: multidict<7.0,>=4.5 in /Library/Frameworks/Python.framework/Versions/3.8/lib/python3.8/site-packages (from aiohttp->openai) (6.0.4)\n",
      "Requirement already satisfied: async-timeout<5.0,>=4.0.0a3 in /Library/Frameworks/Python.framework/Versions/3.8/lib/python3.8/site-packages (from aiohttp->openai) (4.0.2)\n",
      "Requirement already satisfied: idna<4,>=2.5 in /Library/Frameworks/Python.framework/Versions/3.8/lib/python3.8/site-packages (from requests>=2.20->openai) (3.4)\n",
      "Requirement already satisfied: urllib3<3,>=1.21.1 in /Library/Frameworks/Python.framework/Versions/3.8/lib/python3.8/site-packages (from requests>=2.20->openai) (2.0.3)\n",
      "Requirement already satisfied: certifi>=2017.4.17 in /Library/Frameworks/Python.framework/Versions/3.8/lib/python3.8/site-packages (from requests>=2.20->openai) (2020.4.5.1)\n",
      "Installing collected packages: tqdm, openai\n",
      "\u001b[33m  WARNING: The script tqdm is installed in '/Library/Frameworks/Python.framework/Versions/3.8/bin' which is not on PATH.\n",
      "  Consider adding this directory to PATH or, if you prefer to suppress this warning, use --no-warn-script-location.\u001b[0m\n",
      "\u001b[33m  WARNING: The script openai is installed in '/Library/Frameworks/Python.framework/Versions/3.8/bin' which is not on PATH.\n",
      "  Consider adding this directory to PATH or, if you prefer to suppress this warning, use --no-warn-script-location.\u001b[0m\n",
      "Successfully installed openai-0.27.8 tqdm-4.65.0\n",
      "\u001b[33mWARNING: You are using pip version 19.2.3, however version 23.2 is available.\n",
      "You should consider upgrading via the 'pip install --upgrade pip' command.\u001b[0m\n",
      "Note: you may need to restart the kernel to use updated packages.\n"
     ]
    }
   ],
   "source": [
    "pip install openai"
   ]
  },
  {
   "cell_type": "code",
   "execution_count": null,
   "metadata": {},
   "outputs": [],
   "source": [
    "import os\n",
    "# os.environ[\"OPENAI_API_KEY\"] = \"\""
   ]
  },
  {
   "cell_type": "code",
   "execution_count": null,
   "metadata": {},
   "outputs": [],
   "source": [
    "from langchain.llms import OpenAI"
   ]
  },
  {
   "cell_type": "code",
   "execution_count": null,
   "metadata": {},
   "outputs": [],
   "source": [
    "llm = OpenAI(temperature=0.9)"
   ]
  },
  {
   "cell_type": "markdown",
   "metadata": {},
   "source": [
    "### Who are the remaing desdents of Black Wallstreet?"
   ]
  },
  {
   "cell_type": "code",
   "execution_count": null,
   "metadata": {},
   "outputs": [],
   "source": [
    "question_one = \"Who are the remaing desdents of Black Wallstreet?\"\n",
    "print(llm(question_one))"
   ]
  },
  {
   "cell_type": "markdown",
   "metadata": {},
   "source": [
    "### What was the population of Black Wallstreet?"
   ]
  },
  {
   "cell_type": "markdown",
   "metadata": {},
   "source": [
    "### What is the total present day value of all beusiness on Black Wallstreet?"
   ]
  },
  {
   "cell_type": "markdown",
   "metadata": {},
   "source": []
  }
 ],
 "metadata": {
  "kernelspec": {
   "display_name": "Python 3",
   "language": "python",
   "name": "python3"
  },
  "language_info": {
   "codemirror_mode": {
    "name": "ipython",
    "version": 3
   },
   "file_extension": ".py",
   "mimetype": "text/x-python",
   "name": "python",
   "nbconvert_exporter": "python",
   "pygments_lexer": "ipython3",
   "version": "3.8.3rc1"
  },
  "orig_nbformat": 4
 },
 "nbformat": 4,
 "nbformat_minor": 2
}
