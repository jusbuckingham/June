{
 "cells": [
  {
   "cell_type": "code",
   "execution_count": 6,
   "metadata": {},
   "outputs": [],
   "source": [
    "# %pip install requests\n",
    "# %pip install openai"
   ]
  },
  {
   "cell_type": "code",
   "execution_count": null,
   "metadata": {},
   "outputs": [],
   "source": [
    "import openai\n",
    "import os\n",
    "import requests\n",
    "from dotenv import load_dotenv\n",
    "\n",
    "# Load environment variables from .env\n",
    "load_dotenv()\n",
    "\n",
    "# Get the API key from the environment variables\n",
    "api_key = os.getenv(\"OPENAI_API_KEY\")\n",
    "\n",
    "# Function to interact with the GPT-3.5 API\n",
    "def call_gpt3(prompt):\n",
    "    url = \"https://api.openai.com/v1/engines/davinci/completions\"\n",
    "    headers = {\n",
    "        \"Content-Type\": \"application/json\",\n",
    "        \"Authorization\": f\"Bearer {api_key}\"\n",
    "    }\n",
    "    data = {\n",
    "        \"prompt\": prompt,\n",
    "        \"temperature\": 0.7,\n",
    "        \"max_tokens\": 150,\n",
    "        \"stop\": \"\\n\"\n",
    "    }\n",
    "    response = requests.post(url, headers=headers, json=data)\n",
    "    response.raise_for_status()  # Check for any errors in the response\n",
    "    return response.json()[\"choices\"][0][\"text\"]\n",
    "\n",
    "# Set your prompt for GPT-3\n",
    "prompt = \"What present day companies have ties to American Slavery?\"\n",
    "\n",
    "# Call the GPT-3 API\n",
    "response_text = call_gpt3(prompt)\n",
    "\n",
    "# Print the response\n",
    "print(response_text)"
   ]
  }
 ],
 "metadata": {
  "kernelspec": {
   "display_name": "Python 3",
   "language": "python",
   "name": "python3"
  },
  "language_info": {
   "codemirror_mode": {
    "name": "ipython",
    "version": 3
   },
   "file_extension": ".py",
   "mimetype": "text/x-python",
   "name": "python",
   "nbconvert_exporter": "python",
   "pygments_lexer": "ipython3",
   "version": "3.8.3rc1"
  },
  "orig_nbformat": 4
 },
 "nbformat": 4,
 "nbformat_minor": 2
}
